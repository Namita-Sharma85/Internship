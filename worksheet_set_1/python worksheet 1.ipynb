{
 "cells": [
  {
   "cell_type": "code",
   "execution_count": 5,
   "id": "b3ff4d93",
   "metadata": {},
   "outputs": [
    {
     "name": "stdout",
     "output_type": "stream",
     "text": [
      "Enter a number: 8\n",
      "The factorial of 8 is 40320\n"
     ]
    }
   ],
   "source": [
    "# Write a python program to find the factorial of a number.\n",
    "num = int(input(\"Enter a number: \"))\n",
    "\n",
    "fact = 1\n",
    "if num < 0:\n",
    "   print(\"wrong input\")\n",
    "elif num == 0:\n",
    "   print(\"The factorial of 0 is 1\")\n",
    "else:\n",
    "   for i in range(1,num + 1):\n",
    "       fact = fact*i\n",
    "   print(\"The factorial of\",num,\"is\",fact)"
   ]
  },
  {
   "cell_type": "code",
   "execution_count": 6,
   "id": "f49d292f",
   "metadata": {},
   "outputs": [
    {
     "name": "stdout",
     "output_type": "stream",
     "text": [
      "Enter a number to check: 7\n",
      "The number is a prime number.\n"
     ]
    }
   ],
   "source": [
    " # Write a python program to find whether a number is prime or composite.\n",
    "    Input=int(input(\"Enter a number \"))\n",
    "count=0\n",
    "\n",
    "for Number in range(1,Input+1):\n",
    "    Remainder=Input%Number\n",
    "    if (Remainder==0):\n",
    "        count=count+1\n",
    "\n",
    "if (count==1):\n",
    "    print(\"The number is neither prime nor composite.\")\n",
    "        \n",
    "if(count==2):\n",
    "    print(\"The number is prime number.\")\n",
    "\n",
    "elif(count>=3):\n",
    "    print(\"The number is composite number.\")\n"
   ]
  },
  {
   "cell_type": "code",
   "execution_count": 7,
   "id": "8051a107",
   "metadata": {},
   "outputs": [
    {
     "name": "stdout",
     "output_type": "stream",
     "text": [
      "Yes\n"
     ]
    }
   ],
   "source": [
    "#Write a python program to check whether a given string is palindrome or not.\n",
    "def isPalindrome(s):\n",
    "    return s == s[::-1]\n",
    " \n",
    "s = \"madam\"\n",
    "result= isPalindrome(s)\n",
    " \n",
    "if result:\n",
    "    print(\"Yes\")\n",
    "else:\n",
    "    print(\"No\")"
   ]
  },
  {
   "cell_type": "code",
   "execution_count": 8,
   "id": "5593336b",
   "metadata": {
    "scrolled": true
   },
   "outputs": [
    {
     "name": "stdout",
     "output_type": "stream",
     "text": [
      "Enter base: 8\n",
      "Enter height: 9\n",
      "Enter angle: 90\n",
      "Hypotenuse = 12.041594578792296\n"
     ]
    }
   ],
   "source": [
    "#14. Write a Python program to get the third side of right-angled triangle from two given sides.\n",
    "import math\n",
    "\n",
    "a = float(input(\"Enter base: \"))\n",
    "b = float(input(\"Enter height: \"))\n",
    "x = float(input(\"Enter angle: \"))\n",
    "\n",
    "c = math.sqrt(a ** 2 + b ** 2)\n",
    "\n",
    "print(\"Hypotenuse =\", c)"
   ]
  },
  {
   "cell_type": "code",
   "execution_count": 9,
   "id": "a6a810f6",
   "metadata": {},
   "outputs": [
    {
     "ename": "TypeError",
     "evalue": "'str' object is not callable",
     "output_type": "error",
     "traceback": [
      "\u001b[1;31m---------------------------------------------------------------------------\u001b[0m",
      "\u001b[1;31mTypeError\u001b[0m                                 Traceback (most recent call last)",
      "Cell \u001b[1;32mIn[9], line 11\u001b[0m\n\u001b[0;32m      8\u001b[0m     \u001b[38;5;28;01melse\u001b[39;00m:\n\u001b[0;32m      9\u001b[0m         freq[i] \u001b[38;5;241m=\u001b[39m \u001b[38;5;241m1\u001b[39m\n\u001b[0;32m     10\u001b[0m \u001b[38;5;28mprint\u001b[39m(\u001b[38;5;124m\"\u001b[39m\u001b[38;5;124mCount of all characters in GeeksforGeeks is :\u001b[39m\u001b[38;5;130;01m\\n\u001b[39;00m\u001b[38;5;124m \u001b[39m\u001b[38;5;124m\"\u001b[39m\n\u001b[1;32m---> 11\u001b[0m       \u001b[38;5;241m+\u001b[39m \u001b[38;5;28mstr\u001b[39m(freq))\n",
      "\u001b[1;31mTypeError\u001b[0m: 'str' object is not callable"
     ]
    }
   ],
   "source": [
    "#Write a python program to print the frequency of each of the characters present in a given string.\n",
    "str = \"handtohand\"\n",
    "freq = {}\n",
    " \n",
    "for i in str:\n",
    "    if i in freq:\n",
    "        freq[i] += 1\n",
    "    else:\n",
    "        freq[i] = 1\n",
    "print(\"Count of all characters in GeeksforGeeks is :\\n \"\n",
    "      + str(freq))"
   ]
  },
  {
   "cell_type": "code",
   "execution_count": 10,
   "id": "661c1c3a",
   "metadata": {},
   "outputs": [
    {
     "data": {
      "text/plain": [
       "6"
      ]
     },
     "execution_count": 10,
     "metadata": {},
     "output_type": "execute_result"
    }
   ],
   "source": [
    "6|2"
   ]
  },
  {
   "cell_type": "code",
   "execution_count": null,
   "id": "fcf04808",
   "metadata": {},
   "outputs": [],
   "source": []
  }
 ],
 "metadata": {
  "kernelspec": {
   "display_name": "Python 3 (ipykernel)",
   "language": "python",
   "name": "python3"
  },
  "language_info": {
   "codemirror_mode": {
    "name": "ipython",
    "version": 3
   },
   "file_extension": ".py",
   "mimetype": "text/x-python",
   "name": "python",
   "nbconvert_exporter": "python",
   "pygments_lexer": "ipython3",
   "version": "3.11.5"
  }
 },
 "nbformat": 4,
 "nbformat_minor": 5
}
